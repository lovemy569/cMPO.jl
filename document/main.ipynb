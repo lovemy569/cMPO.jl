{
 "cells": [
  {
   "cell_type": "markdown",
   "id": "f2f36c96-5943-4308-8d2a-c6ddb522b173",
   "metadata": {},
   "source": [
    "# cMPO For Finite Temperature\n",
    "\n",
    "[Continuous Matrix Product Operator Approach to Finite Temperature Quantum States.](https://journals.aps.org/prl/abstract/10.1103/PhysRevLett.125.170604)"
   ]
  },
  {
   "cell_type": "markdown",
   "id": "202b67a6-8267-4b22-a07e-17b9f1604094",
   "metadata": {},
   "source": [
    "*Abstract*: \n",
    "    \n",
    "    ﬁnite temperature using continuous matrix product operator representation; \n",
    "    \n",
    "    without incurring any time discretization error; \n",
    "    \n",
    "    direct access to physical observables; \n",
    "    \n",
    "    verifying the method using the prototypical quantum XXZ chains; \n",
    "    \n",
    "    apply it to quantum Ising models with power-law decaying interactions and on the inﬁnite cylinder.\n",
    "    \n",
    "*Goal*: \n",
    "\n",
    "    Ideally, for translationally invariant systems we would like to have a method that directly works in the thermodynamical limit, handles long-range  interactions and two-dimensional geometry well, has no imaginary-time discretization error, and even better, provides access to dynamical properties such as finite temperature spectral functions."
   ]
  },
  {
   "cell_type": "markdown",
   "id": "7632b419-e3e4-45b5-88ff-6e83d46235c7",
   "metadata": {},
   "source": [
    "## Matrix Product Operators representation of Evolution Operator\n",
    "\n",
    "[A Comparison of Recently Developed Time-Evolution Algorithms for One-Dimensional Systems with Long-Range Interactions](https://diglib.tugraz.at/download.php?id=5891c85fde29e&location=browse)\n",
    "\n",
    "[The density-matrix renormalization group in the age of matrix product states](https://linkinghub.elsevier.com/retrieve/pii/S0003491610001752)\n",
    "\n",
    "[Time-evolving a matrix product state with long-ranged interactions](https://journals.aps.org/prb/abstract/10.1103/PhysRevB.91.165112)"
   ]
  },
  {
   "cell_type": "markdown",
   "id": "0f59ddd1-7463-4110-b472-bf8c8191ab90",
   "metadata": {},
   "source": [
    "### Matrix Product States"
   ]
  },
  {
   "cell_type": "markdown",
   "id": "b18880ba-be76-46e5-908b-79a40d69d464",
   "metadata": {},
   "source": [
    "The dimensionality of the quantum state is reduced by singular value decomposition. For dimensions that are too large, only the most relevant parts are truncated after decomposition:\n",
    "\n",
    "$$|\\psi\\rangle=\\sum_{s_1,s_2,...s_N=1}^dc_{s_1,s_2,...,s_N}|s_1s_2\\ldots s_N\\rangle \\to |\\psi\\rangle=\\sum_{s_1,s_2,...s_N=1}^dA_{[1]}^{s_1}A_{[2]}^{s_2}\\ldots A_{[N]}^{s_N}|s_1s_2\\ldots s_N\\rangle . $$\n",
    "\n",
    "State is not unique:\n",
    "\n",
    "$$\\begin{aligned}\n",
    "\\left|\\psi\\right\\rangle & =\\sum_{s_1,s_2,...s_N=1}^d\\ldots\\tilde{A}^{s_i}\\tilde{A}^{s_{i+1}}\\ldots|s_1s_2\\ldots s_N\\rangle   \\\\\n",
    "&=\\sum_{s_1,s_2,...s_N=1}^d\\ldots A^{s_i}\\underbrace{GG^{-1}}_{=1}A^{s_{i+1}}\\ldots|s_1s_2\\ldots s_N\\rangle  \\\\\n",
    "&=\\sum_{s_1,s_2,...s_N=1}^d\\ldots A^{s_i}A^{s_{i+1}}\\ldots|s_1s_2\\ldots s_N\\rangle .\n",
    "\\end{aligned}$$\n"
   ]
  },
  {
   "cell_type": "markdown",
   "id": "8882228f-8de8-46d4-ac9d-758ccf243a9f",
   "metadata": {},
   "source": [
    "### Matrix Product Operators"
   ]
  },
  {
   "cell_type": "markdown",
   "id": "87a958cd-5280-4416-be01-4ebf77552116",
   "metadata": {},
   "source": [
    "Referring to the idea of MPS, a similar definition is given to the operator：\n",
    "\n",
    "$$\\hat{O}=\\sum_{s_1,s_1^{\\prime},...=1}^dc_{s_1,s_1^{\\prime},...,s_L,s_N^{\\prime}}\\left|s_1s_2\\ldots s_N\\right\\rangle\\left\\langle s_1^{\\prime}s_2^{\\prime}\\ldots s_N^{\\prime}\\right| \\to \\hat{O}=\\sum_{s_{1},s_{1}^{\\prime},...=1}^{d}W_{[1]}^{s_{1},s_{1}^{\\prime}}W_{[2]}^{s_{2},s_{2}^{\\prime}}\\ldots W_{[N]}^{s_{N},s_{N}^{\\prime}}|s_{1}s_{2}\\ldots s_{N}\\rangle\\langle s_{1}^{\\prime}s_{2}^{\\prime}\\ldots s_{N}^{\\prime}|.$$\n",
    "\n",
    "Write the operator on any site as：\n",
    "\n",
    "$$\\hat{O}=\\hat{O}^{{L_{k}}}\\otimes\\hat{1}^{{R_{k}}}+\\hat{1}^{{L_{k}}}\\otimes\\hat{O}^{{R_{k}}}+\\sum_{{\\beta_{k}}}\\hat{o}_{{\\beta_{k}}}^{{L_{k}}}\\hat{o}_{{\\beta_{k}}}^{{R_{k}}},$$\n",
    "\n",
    "we can get a recursive relationship, which could constructed transfer matrix $W^{s_j,s_j^{\\prime}}$\n",
    "\n",
    "$$\\left.\\left(\\begin{array}{c}\\hat{O}^{R_k}\\\\\\hat{o}_{\\beta_{k}}^{R_{k}}\\\\\\hat{1}^{R_k}\\end{array}\\right.\\right)=\\left(\\begin{array}{ccc}\\hat{1}^k&\\hat{C}^k&\\hat{O}^k\\\\\\\\0&\\hat{A}^k&\\hat{B}^k\\\\\\\\0&0&\\hat{1}^k\\end{array}\\right)\\left(\\begin{array}{c}\\hat{O}^{R_{k+1}}\\\\\\hat{o}_{\\beta_{k+1}}^{R_{k+1}}\\\\\\hat{1}^{R_{k+1}}\\end{array}\\right).$$\n",
    "\n",
    "For the bond between sites $(i,i + 1)$ that divides the system into regions $L_i$ and $R_i$, any Hamiltonian $H$ can bedecomposed as:\n",
    "\n",
    "$$H=H_{L_{i}}\\otimes\\mathbb{1}_{R_{i}}+\\mathbb{1}_{L_{i}}\\otimes H_{R_{i}}+\\sum_{a_{i}=1}^{N_{i}}h_{L_{i},a_{i}}\\otimes h_{R_{i},a_{i}},$$\n",
    "\n",
    "so we can get:\n",
    "\n",
    "$$\\begin{pmatrix}H_{R_{i-1}}\\\\h_{R_{i-1},a_{i-1}}\\\\1_{R_{i-1}}\\end{pmatrix}=\\begin{pmatrix}\\hat{1}&\\hat{C}&\\hat{D}\\\\0&\\hat{A}&\\hat{B}\\\\0&0&\\hat{1}\\end{pmatrix}_{(i)}\\otimes\\begin{pmatrix}H_{R_i}\\\\h_{R_i,a_i}\\\\1_{R_i}\\end{pmatrix}.$$\n",
    "\n",
    "The starting point of its construction is to use matrix form to concisely process tensor product form. For a rank 3 transfer matrix above, $\\hat{C}$ and $\\hat{B}$ represents the coupling operator, $\\hat{D}$ represents the onsite single operator, $\\hat{A}$ represents additional operator for coupling terms (usually a constant to handle exponential decay).For a rank 4 transfer matrix below:\n",
    "\n",
    "$$\\hat{W}_{[i]}=\\begin{pmatrix}\\hat{1}&\\hat{C_1}&\\hat{C_2}&\\hat{D}\\\\0&e^{-\\alpha}\\hat{1}&e^{-\\gamma}\\hat{1}&\\hat{B_2}\\\\0&\\hat{A}&e^{-\\beta}\\hat{1}&\\hat{B_1}\\\\0&0&0&\\hat{1}\\end{pmatrix},$$\n",
    "\n",
    "When there is no $e^{-\\gamma}\\hat{1}$ and $\\hat{A}$, the $e^{-\\alpha}\\hat{1}$ attenuation term only acts on the $\\hat{C_1}\\hat{B_2}$ term, and the $e^{-\\beta}\\hat{1}$ attenuation term only acts on the $\\hat{C_2}\\hat{B_1}$ term; when there's $e^{-\\gamma}\\hat{1}$ and $\\hat{A}$, $e^{-\\gamma}\\hat{1}$ only acts on $\\hat{C_1}\\hat{B_1}$ ,and $\\hat{A}$ only acts on $\\hat{C_2}\\hat{B_2}$, but this case lead to $e^{-\\alpha}\\hat{1}$ and $e^{-\\beta}\\hat{1}$ acts on $\\hat{C_1}\\hat{B_1}$ ($\\hat{C_2}\\hat{B_2}$) together with $e^{-\\gamma}\\hat{1}$ ($\\hat{A}$).\n",
    "\n",
    "The boundary matrix can be easily obtained from the first row and last column of the transfer matrix (take the above matrix as an example)：\n",
    "\n",
    "$$\\hat{W}_{[1]}=\\begin{pmatrix}\\hat{1}&\\hat{C_1}&\\hat{C_2}&\\hat{D}\\end{pmatrix},\\quad \\hat{W}_{[L]}=\\begin{pmatrix}\\hat{D}\\\\\\hat{B_2}\\\\\\hat{B_1}\\\\\\hat{1}\\end{pmatrix}.$$\n",
    "\n",
    "Another way you can obtain the transfer matrix from Graph Theory (Finite Automata). Thinking about this Hamiltonian:\n",
    "\n",
    "$$H=(-Z_0Z_1+gX_0)+(-Z_1Z_2+gX_1)+gX_2\\\\=-ZZI+gXII-IZZ+gIXI+gIIX.$$\n",
    "\n",
    "We can plot the evolution of an operator with respect to itself on a graph：\n",
    "\n",
    "<div align=\"center\">\n",
    "    <img align=\"middle\" src=\"picture\\graph_1.png\" width=\"250\" alt=\"graph_1\"/>\n",
    "</div>\n",
    "\n",
    "Combine the same paths from a node, and try not to intersect the lines (intersection indicates that the model has non-neighbor interactions):\n",
    "\n",
    "<div align=\"center\">\n",
    "    <img align=\"middle\" src=\"picture\\graph_2.png\" width=\"250\" alt=\"graph_2\"/>\n",
    "</div>\n",
    "\n",
    "The following standard diagram is obtained, our example only has three sites. For multiple sites, due to the translation-invariant property, we will only get the same diagram:\n",
    "\n",
    "<div align=\"center\">\n",
    "    <img align=\"middle\" src=\"picture\\graph_3.png\" width=\"250\" alt=\"graph_3\"/>\n",
    "    <img align=\"middle\" src=\"picture\\graph_4.png\" width=\"500\" alt=\"graph_4\"/>\n",
    "</div>\n",
    "\n",
    "Based on the above graph, we can get the simplified transfer matrix：\n",
    "\n",
    "<div align=\"center\">\n",
    "    <img align=\"middle\" src=\"picture\\graph_5.png\" width=\"150\" alt=\"graph_5\"/>\n",
    "    <img align=\"middle\" src=\"picture\\graph_6.png\" width=\"350\" alt=\"graph_6\"/>\n",
    "</div>\n"
   ]
  },
  {
   "cell_type": "markdown",
   "id": "1e6c1cb4-5bc7-4c0e-b959-a33b92ba90bb",
   "metadata": {},
   "source": [
    "### Construct Evolution Operator"
   ]
  },
  {
   "cell_type": "markdown",
   "id": "b2d82ff5-e806-4a8e-a5da-8f4f34307242",
   "metadata": {},
   "source": [
    "Given the decomposition $H=\\sum_xH_x$, and the evolution operator form $e^{tH}$ ,through Series expansion：\n",
    "\n",
    "$$U(t)=\\sum_{n=0}^\\infty\\frac{(t\\sum_xH_x)^n}{n!},$$\n",
    "\n",
    "we can get:\n",
    "\n",
    "$$U(t)=1+t\\sum_xH_x+\\frac{t^2}2\\sum_{x,y}H_xH_y+\\frac{t^3}6\\sum_{x,y,z}H_xH_yH_z+\\cdots .$$\n",
    "\n",
    "Define $x < y < z$ to get:\n",
    "\n",
    "$$\\begin{aligned}\\frac12t^2\\left(\\sum_xH_xH_x+\\sum_{x\\neq y}H_xH_y\\right) &\\to \\frac12 t^2 \\left(2\\sum_{x < y}H_xH_y\\right)\\\\\n",
    "\\frac16t^3\\left(\\sum_xH_x^3+\\sum_{x\\neq y}H_x^2H_y+\\sum_{x\\neq y\\neq z}H_xH_yH_z\\right)&\\to \\frac16t^3\\left(6\\sum_{x<y<z}H_xH_yH_z\\right),\\end{aligned}$$\n",
    "\n",
    "which lead to:\n",
    "\n",
    "$$U^{\\mathrm{I}}(t)=1+t\\sum_{x}H_{x}+t^{2}\\sum_{x<y}H_{x}H_{y}+t^{3}\\sum_{x<y<z}H_{x}H_{y}H_{z}+\\cdots.$$\n",
    "\n",
    "The firsterror occurs at order $t^2$, and for a system of length $L$, there are $\\mathcal{O}(L)$ such terms, so the error is $\\mathcal{O}(Lt^2)$, a constant error per site.\n",
    "\n",
    "The reason why the above evolution form is needed is that we can get an exact compact MPO of the evolution operator:\n",
    "\n",
    "$$\\hat{W}_{(i)}^\\mathrm{I}(t)=\\begin{pmatrix}\\hat{1}_{(i)}+t\\hat{D}_{(i)}&\\sqrt{t}\\hat{C}_{(i)}\\\\\\sqrt{t}\\hat{B}_{(i)}&\\hat{A}_{(i)}\\end{pmatrix}.$$\n",
    "\n",
    "And another usage of this form could improve the Euler step:\n",
    "\n",
    "$$1+t\\sum_xH_x\\to\\prod_x(1+tH_x).$$\n",
    "\n",
    "For example, consider the Hamiltonian $H=H_1+H_2$:\n",
    "\n",
    "$$1+t(H_1+H_2)=1+tH_1+tH_2 \\to (1+tH_1)(1+tH_2)=1+tH_1+tH_2+t^2H_1H_2.$$\n",
    "\n",
    "\n",
    "\n",
    "\n"
   ]
  },
  {
   "cell_type": "markdown",
   "id": "1972aec7-dbf6-4543-941a-95c69d023b5c",
   "metadata": {},
   "source": [
    "## Eliminating Discrete Time Error"
   ]
  },
  {
   "cell_type": "markdown",
   "id": "4f2a6391-e74a-4774-bf2b-5d879faf304a",
   "metadata": {},
   "source": [
    "Since we will consider the limit of $\\epsilon\\rightarrow0$, we shall not be concerned about the time discretization error and write the evolution operator as a translationally invariant MPO, $e^{-\\epsilon H}=\\cdots\\textbf{+++}\\cdots $ , where the vertical legs of the MPO tensor represent the d-dimensional physical Hilbert space at each site, and the horizontal legs carry D-dimensional virtual degrees of freedom. When viewing the left and right legs of the MPO tensor as matrix indices, the tensor at each site takes the same form:\n",
    "\n",
    "$$\\textbf{+}_{ij}=\\left(\\begin{array}{cc}\\mathbb{1}+\\epsilon Q&\\sqrt{\\epsilon}L\\\\\\sqrt{\\epsilon}R&P\\end{array}\\right)_{ij},$$\n",
    "\n",
    "$Q$ is related to the local terms in the Hamiltonian, $L$, $R$ contain interaction to neighboring sites, and $P$ is responsible for long-range interactions.\n",
    "\n",
    "The partition function at finite temperature is written as:\n",
    "\n",
    "$$Z=\\mathrm{Tr}(e^{-\\beta H})=\\mathrm{Tr}[(\\cdots\\textbf{++++}\\cdots)^{\\beta/\\epsilon}],$$\n",
    "\n",
    "where the $\\beta/\\epsilon$ power of the MPO representing the infinitesimal evolution operator $e^{-\\beta H}$.\n",
    "\n",
    "In the thermodynamic limit $L \\to \\infty$, the tensor network has an infinite cylinder geometry as shown below. In the limit $\\epsilon\\to0,\\mathbb{T}$ becomes a cMPO with “length”$\\beta$ in the periodic imaginary-time direction. And the dominant eigenvalue of $\\mathbb{T}$, which we denote by $\\lambda_\\mathrm{max}$ and assume to be unique, $\\mathbb{T}|r\\rangle=\\lambda_{\\max}|r\\rangle,\\langle l|\\mathbb{T}=\\langle l|\\lambda_{\\max}$, completely determines the partition function $Z=\\lim_{L\\to\\infty}\\lambda_{\\mathrm{max}}^{L}.$\n",
    "\n",
    "<div align=\"center\">\n",
    "    <img align=\"middle\" src=\"picture\\graph_7.png\" width=\"500\" alt=\"graph_7\"/>\n",
    "</div>\n",
    "\n",
    "For instance, the MPS for $|r\\rangle$ and $|l\\rangle$ is defined through a local tensor:\n",
    "\n",
    "$$|r\\rangle_i=\\textbf{-|}_i=\\left(\\begin{array}{c}\\mathbb{1}_\\textbf{-|}+\\epsilon Q_\\textbf{-|} \\\\ \\sqrt{\\epsilon}R_\\textbf{-|}\\end{array}\\right)_i, \\quad \\langle l|_i=\\textbf{|-}_i=\\left(\\begin{array}{c}\\mathbb{1}_\\textbf{|-}+\\epsilon Q_\\textbf{|-}\\quad \\sqrt{\\epsilon}R_\\textbf{|-}\\end{array}\\right)_i.$$\n",
    "\n",
    "Given the left and right MPSs, the dominant eigenvalue of $\\mathbb{T}$ can be estimated from the quotient $\\lambda_{\\max}=\\langle l|\\mathbb{T}|r\\rangle/\\langle l|r\\rangle$.To the leading order of $\\epsilon$, we have:\n",
    "\n",
    "$$\\textbf{|-|} = \\mathbb{1}_{\\textbf{|-}} \\otimes \\mathbb{1}_{\\textbf{-|}} + \\epsilon \\underbrace{(Q_{\\textbf{|-}} \\otimes \\mathbb{1}_{\\textbf{-|}} + \\mathbb{1}_{\\textbf{|-}} \\otimes Q_{\\textbf{|-}} + R_{\\textbf{|-}} \\otimes R_{\\textbf{-|}})}_{-K_{\\textbf{|-|}}}.$$\n",
    "\n",
    "Due to the limitation $\\lim_{n \\to 0} \\left(1+\\frac An\\right)^n\\approx\\exp(A)$, then in the limit $\\epsilon\\to0$, we have:\n",
    "\n",
    "$$\\lim_{\\epsilon \\to 0} \\textbf{|-|}^{\\beta/\\epsilon} = \\lim_{\\epsilon \\to 0} (\\mathbb{1}_{\\textbf{|-}} \\otimes \\mathbb{1}_{\\textbf{-|}} + \\epsilon \\underbrace{(Q_{\\textbf{|-}} \\otimes \\mathbb{1}_{\\textbf{-|}} + \\mathbb{1}_{\\textbf{|-}} \\otimes Q_{\\textbf{|-}} + R_{\\textbf{|-}} \\otimes R_{\\textbf{-|}})}_{-K_{\\textbf{|-|}}})^{\\beta/\\epsilon} \\approx \\exp(\\beta \\underbrace{(Q_{\\textbf{|-}} \\otimes \\mathbb{1}_{\\textbf{-|}} + \\mathbb{1}_{\\textbf{|-}} \\otimes Q_{\\textbf{|-}} + R_{\\textbf{|-}} \\otimes R_{\\textbf{-|}})}_{-K_{\\textbf{|-|}}}),$$\n",
    "\n",
    "so the overlap can be evaluated in the continuous-time limit as:\n",
    "\n",
    "$$\\langle l|r\\rangle=\\lim_{\\epsilon\\to0}\\operatorname{Tr}\\left(\\textbf{|-|}^{\\beta/\\epsilon}\\right)=\\operatorname{Tr}e^{-\\beta K_\\textbf{|-|}}.$$\n",
    "\n",
    "Moreover, applying a cMPO to a cMPS yields another cMPS, as long as the first-order terms in $\\epsilon$ are retained:\n",
    "\n",
    "$$\\mathbb{T}|r\\rangle = \\textbf{+-|}_i=\\left(\\begin{array}{c}\\mathbb{1}_\\textbf{+}\\otimes\\mathbb{1}_\\textbf{-|}+\\epsilon(\\mathbb{1}_\\textbf{+}\\otimes Q_\\textbf{-|}+Q_\\textbf{+}\\otimes\\mathbb{1}_\\textbf{-|}+L_\\textbf{+}\\otimes R_\\textbf{-|})\\\\\\sqrt{\\epsilon}(\\mathbb{R}_\\textbf{+}\\otimes\\mathbb{1}_\\textbf{-|}+P_\\textbf{+}\\otimes R_\\textbf{-|})\\end{array}\\right)_i$$\n",
    "\n",
    "In the same way, we can define $\\textbf{|-+-|}= \\mathbb{1}_\\textbf{|-}\\otimes\\mathbb{1}_\\textbf{+}\\otimes\\mathbb{1}_\\textbf{-|}-\\epsilon K_\\textbf{|-+-|}$, then the expectation reads:\n",
    "\n",
    "$$\\langle l|\\mathbb{T}|r\\rangle=\\lim_{\\epsilon\\to0}\\operatorname{Tr}\\left(\\textbf{|-+-|}^{\\beta/\\epsilon}\\right)=\\operatorname{Tr}e^{-\\beta K_\\textbf{|-+-|}}.$$\n",
    "\n",
    "In the same way, we can construct the infinite cylinder tensor network in the figure above."
   ]
  },
  {
   "cell_type": "markdown",
   "id": "b58bad27-ed89-4f09-b1b7-e1b71fbb1f66",
   "metadata": {},
   "source": [
    "## Variational Optimization and Observables"
   ]
  },
  {
   "cell_type": "markdown",
   "id": "8fcf1171-c9da-49ad-bd6f-57a3c98fa006",
   "metadata": {},
   "source": [
    "We have obtained the partition function in the thermodynamic limit, under the dominant eigenvalue representation, free-energy density $f = -\\ln Z/(\\beta L)$ takes a simple form:\n",
    "\n",
    "$$f=-\\frac1\\beta\\left(\\ln\\operatorname{Tr}e^{-\\beta K_\\textbf{|-+-|}}-\\ln\\operatorname{Tr}e^{-\\beta K_\\textbf{|--|}}\\right).$$\n",
    "\n",
    "In more general cases, the spatial transfer matrix $\\mathbb{T}$ is nonHermitian. We compress it back to bond dimension $\\chi$ by variationally maximizing the fidelity between the target cMPS $|\\psi\\rangle$ and $\\mathbb{T}|r\\rangle$:\n",
    "\n",
    "$$\\mathcal{F}=\\langle\\psi|\\mathbb{T}|r\\rangle/\\sqrt{\\langle\\psi|\\psi\\rangle}.$$\n",
    "\n",
    "One can directly minimize equation above with respect to the cMPS tensors according to the variational freeenergy principle. This calculation is equivalent to optimizing a periodic uniform cMPS as the dominant eigenvector of a Hermitian cMPO.To optimize these quantities, we perform gradient-based variational optimizations using the limited-memory Broyden-Fletcher-GoldfarbShanno (L-BFGS) quasi-Newton algorithm, where we employ the zygote.gradient to compute the gradient with respect to the cMPS tensors conveniently.\n",
    "\n",
    "After obtaining the boundary cMPS approximations for the dominant eigenvectors of the spatial transfer matrix $\\mathbb{T}$, we can compute a number of physical observables.\n",
    "\n",
    "The thermal average of local operators: \n",
    "\n",
    "$$\\langle O_i\\rangle=\\mathrm{Tr}\\left(\\mathrm{e}^{-\\beta K_\\textbf{|-+-|}O}\\right)/\\mathrm{Tr}\\left(\\mathrm{e}^{-\\beta K_\\textbf{|-+-|}}\\right),$$\n",
    "\n",
    "$K_\\textbf{|-+-|}$ acts as an “effective Hamiltonian” and  $\\mathrm{e}^{-\\beta K_\\textbf{|-+-|}}$ plays the role of the single-site reduced density matrix.\n",
    "\n",
    "The local two-time correlation function: $\\langle A_i(\\tau)B_i\\rangle=\\mathrm{Tr}\\left(e^{-(\\beta-\\tau)K_\\textbf{|-+-|}}Ae^{-\\tau K_\\textbf{|-+-|}}B\\right)/\\mathrm{Tr}\\left(e^{-\\beta K_\\textbf{|-+-|}}\\right).$\n",
    "\n",
    "The energy density: $e=\\langle K_\\textbf{|-+-|}\\rangle_{K_\\textbf{|-+-|}}-\\langle K_\\textbf{|--|}\\rangle_{K_\\textbf{|--|}}.$\n",
    "\n",
    "The specific heat: $c=\\beta^2\\left[\\left(\\langle K_{\\textbf{|-+-|}}^2\\rangle_{K_{\\textbf{|-+-|}}}-\\langle K_{\\textbf{|-+-|}}\\rangle_{K_{\\textbf{|-+-|}}}^2\\right)-\\left(\\langle K_{\\textbf{|--|}}^2\\rangle_{K_{\\textbf{|--|}}}-\\langle K_{\\textbf{|--|}}\\rangle_{K_{\\textbf{|--|}}}^2\\right)\\right].$\n",
    "\n",
    "The Matsubara frequency susceptibility: $\\chi(i\\omega)=\\frac1Z\\sum_{m,n}\\tilde{S}_{nm}^z\\tilde{S}_{mn}^z\\frac{e^{-\\beta\\Lambda_m}-e^{-\\beta\\Lambda_n}}{i\\omega-\\Lambda_m+\\Lambda_n},$ where $Z=\\sum_{n}e^{-\\beta\\Lambda_{n}}$ and $\\tilde{S}^{z}=U^{\\dagger}(\\mathbb{1}_{\\textbf{|-}}\\otimes S^{z}\\otimes\\mathbb{1}_{\\textbf{-|}})U$.\n",
    "\n",
    "The dynamic susceptibility: $\\chi^{\\prime\\prime}(\\omega)=-\\frac\\pi Z\\sum_{mm}\\tilde{S}_{nm}^z\\tilde{S}_{mn}^z\\left(e^{-\\beta\\Lambda_m}-e^{-\\beta\\Lambda_n}\\right)\\delta\\left(\\omega-\\Lambda_m+\\Lambda_n\\right),$ where $\\delta(x)=\\lim_{\\eta\\to0}\\frac1\\pi\\frac\\eta{x^2+\\eta^2}.$\n",
    "\n",
    "Local spectral function: $S\\left(\\omega\\right)=\\frac{2\\chi^{\\prime\\prime}\\left(\\omega\\right)}{1-e^{-\\beta\\omega}}.$"
   ]
  },
  {
   "cell_type": "markdown",
   "id": "998085eb-cfeb-4b35-a942-dc0f3e74043b",
   "metadata": {},
   "source": [
    "Test model: $$H=\\sum_{\\langle i,j\\rangle}(S_i^xS_j^x+S_i^yS_j^y+\\Delta S_i^zS_j^z).$$"
   ]
  },
  {
   "cell_type": "code",
   "execution_count": null,
   "id": "f063ffde-2fc3-49b0-9812-6f88844c12dd",
   "metadata": {},
   "outputs": [],
   "source": []
  }
 ],
 "metadata": {
  "kernelspec": {
   "display_name": "Julia 1.9.4",
   "language": "julia",
   "name": "julia-1.9"
  },
  "language_info": {
   "file_extension": ".jl",
   "mimetype": "application/julia",
   "name": "julia",
   "version": "1.9.4"
  }
 },
 "nbformat": 4,
 "nbformat_minor": 5
}
